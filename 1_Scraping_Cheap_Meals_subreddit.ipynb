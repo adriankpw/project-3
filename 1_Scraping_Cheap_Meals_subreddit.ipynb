{
 "cells": [
  {
   "cell_type": "markdown",
   "metadata": {},
   "source": [
    "# Project 3 - Reddit API and Classification"
   ]
  },
  {
   "cell_type": "markdown",
   "metadata": {},
   "source": [
    "## Scraping Cheap_Meals subreddit"
   ]
  },
  {
   "cell_type": "markdown",
   "metadata": {},
   "source": [
    "Using Reddit's API, posts were collected from Cheap_Meals subreddit."
   ]
  },
  {
   "cell_type": "code",
   "execution_count": 1,
   "metadata": {},
   "outputs": [],
   "source": [
    "import requests\n",
    "import time\n",
    "import pandas as pd"
   ]
  },
  {
   "cell_type": "code",
   "execution_count": 2,
   "metadata": {},
   "outputs": [],
   "source": [
    "url = 'https://www.reddit.com/r/Cheap_Meals.json'"
   ]
  },
  {
   "cell_type": "code",
   "execution_count": 3,
   "metadata": {},
   "outputs": [],
   "source": [
    "# Create custom user agent.\n",
    "headers = {'User-agent': 'jason_bourne_0023'}"
   ]
  },
  {
   "cell_type": "code",
   "execution_count": 4,
   "metadata": {},
   "outputs": [],
   "source": [
    "res = requests.get(url, headers=headers)"
   ]
  },
  {
   "cell_type": "code",
   "execution_count": 5,
   "metadata": {},
   "outputs": [
    {
     "data": {
      "text/plain": [
       "200"
      ]
     },
     "execution_count": 5,
     "metadata": {},
     "output_type": "execute_result"
    }
   ],
   "source": [
    "res.status_code"
   ]
  },
  {
   "cell_type": "code",
   "execution_count": 6,
   "metadata": {},
   "outputs": [],
   "source": [
    "cheap = res.json()"
   ]
  },
  {
   "cell_type": "code",
   "execution_count": 7,
   "metadata": {
    "scrolled": false
   },
   "outputs": [
    {
     "data": {
      "text/plain": [
       "['data', 'kind']"
      ]
     },
     "execution_count": 7,
     "metadata": {},
     "output_type": "execute_result"
    }
   ],
   "source": [
    "sorted(cheap.keys())"
   ]
  },
  {
   "cell_type": "code",
   "execution_count": 8,
   "metadata": {},
   "outputs": [
    {
     "data": {
      "text/plain": [
       "['after', 'before', 'children', 'dist', 'modhash']"
      ]
     },
     "execution_count": 8,
     "metadata": {},
     "output_type": "execute_result"
    }
   ],
   "source": [
    "sorted(cheap['data'].keys())"
   ]
  },
  {
   "cell_type": "code",
   "execution_count": 9,
   "metadata": {},
   "outputs": [
    {
     "data": {
      "text/plain": [
       "25"
      ]
     },
     "execution_count": 9,
     "metadata": {},
     "output_type": "execute_result"
    }
   ],
   "source": [
    "len(cheap['data']['children'])"
   ]
  },
  {
   "cell_type": "code",
   "execution_count": 10,
   "metadata": {},
   "outputs": [
    {
     "data": {
      "text/plain": [
       "'t3_cboim1'"
      ]
     },
     "execution_count": 10,
     "metadata": {},
     "output_type": "execute_result"
    }
   ],
   "source": [
    "# Name of the last post.\n",
    "cheap['data']['after']"
   ]
  },
  {
   "cell_type": "code",
   "execution_count": 11,
   "metadata": {
    "scrolled": true
   },
   "outputs": [
    {
     "data": {
      "text/plain": [
       "['t3_cg1enz',\n",
       " 't3_cfpryk',\n",
       " 't3_cfhjvg',\n",
       " 't3_cfe67z',\n",
       " 't3_cf6enx',\n",
       " 't3_cfcfvp',\n",
       " 't3_cfacnr',\n",
       " 't3_cesfg3',\n",
       " 't3_cekx90',\n",
       " 't3_celcze',\n",
       " 't3_ceip7k',\n",
       " 't3_cel3ib',\n",
       " 't3_cebuut',\n",
       " 't3_cdrexe',\n",
       " 't3_cdgjm8',\n",
       " 't3_cd6rvr',\n",
       " 't3_ccvf2d',\n",
       " 't3_ccpjum',\n",
       " 't3_cct2qa',\n",
       " 't3_ccfha3',\n",
       " 't3_ccdmle',\n",
       " 't3_cckd5a',\n",
       " 't3_ccd1d3',\n",
       " 't3_cciu8d',\n",
       " 't3_cboim1']"
      ]
     },
     "execution_count": 11,
     "metadata": {},
     "output_type": "execute_result"
    }
   ],
   "source": [
    "[post['data']['name'] for post in  cheap['data']['children']]"
   ]
  },
  {
   "cell_type": "code",
   "execution_count": 12,
   "metadata": {},
   "outputs": [],
   "source": [
    "param = {'after': 't3_cboim1'}"
   ]
  },
  {
   "cell_type": "code",
   "execution_count": 13,
   "metadata": {},
   "outputs": [
    {
     "data": {
      "text/plain": [
       "<Response [200]>"
      ]
     },
     "execution_count": 13,
     "metadata": {},
     "output_type": "execute_result"
    }
   ],
   "source": [
    "requests.get(url, params=param, headers=headers)"
   ]
  },
  {
   "cell_type": "code",
   "execution_count": 14,
   "metadata": {
    "scrolled": true
   },
   "outputs": [
    {
     "name": "stdout",
     "output_type": "stream",
     "text": [
      "0\n",
      "1\n",
      "2\n",
      "3\n",
      "4\n",
      "5\n",
      "6\n",
      "7\n",
      "8\n",
      "9\n",
      "10\n",
      "11\n",
      "12\n",
      "13\n",
      "14\n",
      "15\n",
      "16\n",
      "17\n",
      "18\n",
      "19\n",
      "20\n",
      "21\n",
      "22\n",
      "23\n",
      "24\n",
      "25\n",
      "26\n",
      "27\n",
      "28\n",
      "29\n",
      "30\n",
      "31\n",
      "32\n",
      "33\n",
      "34\n",
      "35\n",
      "36\n",
      "37\n",
      "38\n",
      "39\n",
      "40\n",
      "41\n",
      "42\n",
      "43\n",
      "44\n",
      "45\n",
      "46\n",
      "47\n",
      "48\n",
      "49\n",
      "50\n",
      "51\n",
      "52\n",
      "53\n",
      "54\n",
      "55\n",
      "56\n",
      "57\n",
      "58\n",
      "59\n",
      "60\n",
      "61\n",
      "62\n",
      "63\n",
      "64\n",
      "65\n",
      "66\n",
      "67\n",
      "68\n",
      "69\n",
      "70\n",
      "71\n",
      "72\n",
      "73\n",
      "74\n",
      "75\n",
      "76\n",
      "77\n",
      "78\n",
      "79\n",
      "80\n",
      "81\n",
      "82\n",
      "83\n",
      "84\n",
      "85\n",
      "86\n",
      "87\n",
      "88\n",
      "89\n",
      "90\n",
      "91\n",
      "92\n",
      "93\n",
      "94\n",
      "95\n",
      "96\n",
      "97\n",
      "98\n",
      "99\n"
     ]
    }
   ],
   "source": [
    "posts = []\n",
    "after = None\n",
    "for i in range(100):\n",
    "    print(i)\n",
    "    if after == None:\n",
    "        params = {}\n",
    "    else:\n",
    "        params = {'after': after}\n",
    "    url = 'https://www.reddit.com/r/Cheap_Meals.json'\n",
    "    res = requests.get(url, params=params, headers=headers)\n",
    "    if res.status_code == 200:\n",
    "        cheap = res.json()\n",
    "        posts.extend(cheap['data']['children'])\n",
    "        after = cheap['data']['after']\n",
    "    else:\n",
    "        print('Status code: {}'.format(res.status_code))\n",
    "        break\n",
    "    # allow for a break in between requests.\n",
    "    time.sleep(2)"
   ]
  },
  {
   "cell_type": "code",
   "execution_count": 15,
   "metadata": {},
   "outputs": [
    {
     "data": {
      "text/plain": [
       "699"
      ]
     },
     "execution_count": 15,
     "metadata": {},
     "output_type": "execute_result"
    }
   ],
   "source": [
    "len(set([p['data']['name'] for p in posts]))"
   ]
  },
  {
   "cell_type": "code",
   "execution_count": 16,
   "metadata": {},
   "outputs": [
    {
     "data": {
      "text/plain": [
       "{'kind': 't3',\n",
       " 'data': {'approved_at_utc': None,\n",
       "  'subreddit': 'Cheap_Meals',\n",
       "  'selftext': '',\n",
       "  'author_fullname': 't2_1qimkt7f',\n",
       "  'saved': False,\n",
       "  'mod_reason_title': None,\n",
       "  'gilded': 0,\n",
       "  'clicked': False,\n",
       "  'title': 'Ancho Chile Puree Braised Chicken Tacos // Taco Tuesday EP.3',\n",
       "  'link_flair_richtext': [],\n",
       "  'subreddit_name_prefixed': 'r/Cheap_Meals',\n",
       "  'hidden': False,\n",
       "  'pwls': None,\n",
       "  'link_flair_css_class': None,\n",
       "  'downs': 0,\n",
       "  'hide_score': True,\n",
       "  'name': 't3_cg1enz',\n",
       "  'quarantine': False,\n",
       "  'link_flair_text_color': 'dark',\n",
       "  'author_flair_background_color': None,\n",
       "  'subreddit_type': 'public',\n",
       "  'ups': 3,\n",
       "  'total_awards_received': 0,\n",
       "  'media_embed': {'content': '&lt;iframe width=\"600\" height=\"338\" src=\"https://www.youtube.com/embed/6Q6azPwe1JM?feature=oembed&amp;enablejsapi=1\" frameborder=\"0\" allow=\"accelerometer; autoplay; encrypted-media; gyroscope; picture-in-picture\" allowfullscreen&gt;&lt;/iframe&gt;',\n",
       "   'width': 600,\n",
       "   'scrolling': False,\n",
       "   'height': 338},\n",
       "  'author_flair_template_id': None,\n",
       "  'is_original_content': False,\n",
       "  'user_reports': [],\n",
       "  'secure_media': {'type': 'youtube.com',\n",
       "   'oembed': {'provider_url': 'https://www.youtube.com/',\n",
       "    'version': '1.0',\n",
       "    'title': 'Taco Tuesday EP.3 // Ancho Chile Puree Braised Chicken Tacos',\n",
       "    'type': 'video',\n",
       "    'thumbnail_width': 480,\n",
       "    'height': 338,\n",
       "    'width': 600,\n",
       "    'html': '&lt;iframe width=\"600\" height=\"338\" src=\"https://www.youtube.com/embed/6Q6azPwe1JM?feature=oembed&amp;enablejsapi=1\" frameborder=\"0\" allow=\"accelerometer; autoplay; encrypted-media; gyroscope; picture-in-picture\" allowfullscreen&gt;&lt;/iframe&gt;',\n",
       "    'author_name': 'Cook with E',\n",
       "    'provider_name': 'YouTube',\n",
       "    'thumbnail_url': 'https://i.ytimg.com/vi/6Q6azPwe1JM/hqdefault.jpg',\n",
       "    'thumbnail_height': 360,\n",
       "    'author_url': 'https://www.youtube.com/channel/UCDq5v10l4wkV5-ZBIJJFbzQ'}},\n",
       "  'is_reddit_media_domain': False,\n",
       "  'is_meta': False,\n",
       "  'category': None,\n",
       "  'secure_media_embed': {'content': '&lt;iframe width=\"600\" height=\"338\" src=\"https://www.youtube.com/embed/6Q6azPwe1JM?feature=oembed&amp;enablejsapi=1\" frameborder=\"0\" allow=\"accelerometer; autoplay; encrypted-media; gyroscope; picture-in-picture\" allowfullscreen&gt;&lt;/iframe&gt;',\n",
       "   'width': 600,\n",
       "   'scrolling': False,\n",
       "   'media_domain_url': 'https://www.redditmedia.com/mediaembed/cg1enz',\n",
       "   'height': 338},\n",
       "  'link_flair_text': None,\n",
       "  'can_mod_post': False,\n",
       "  'score': 3,\n",
       "  'approved_by': None,\n",
       "  'thumbnail': '',\n",
       "  'edited': False,\n",
       "  'author_flair_css_class': None,\n",
       "  'author_flair_richtext': [],\n",
       "  'gildings': {},\n",
       "  'content_categories': None,\n",
       "  'is_self': False,\n",
       "  'mod_note': None,\n",
       "  'created': 1563758114.0,\n",
       "  'link_flair_type': 'text',\n",
       "  'wls': None,\n",
       "  'banned_by': None,\n",
       "  'author_flair_type': 'text',\n",
       "  'domain': 'youtu.be',\n",
       "  'allow_live_comments': False,\n",
       "  'selftext_html': None,\n",
       "  'likes': None,\n",
       "  'suggested_sort': None,\n",
       "  'banned_at_utc': None,\n",
       "  'view_count': None,\n",
       "  'archived': False,\n",
       "  'no_follow': True,\n",
       "  'is_crosspostable': False,\n",
       "  'pinned': False,\n",
       "  'over_18': False,\n",
       "  'all_awardings': [],\n",
       "  'media_only': False,\n",
       "  'can_gild': False,\n",
       "  'spoiler': False,\n",
       "  'locked': False,\n",
       "  'author_flair_text': None,\n",
       "  'visited': False,\n",
       "  'num_reports': None,\n",
       "  'distinguished': None,\n",
       "  'subreddit_id': 't5_2r7s6',\n",
       "  'mod_reason_by': None,\n",
       "  'removal_reason': None,\n",
       "  'link_flair_background_color': '',\n",
       "  'id': 'cg1enz',\n",
       "  'is_robot_indexable': True,\n",
       "  'report_reasons': None,\n",
       "  'author': 'CookWithEyt',\n",
       "  'num_crossposts': 0,\n",
       "  'num_comments': 1,\n",
       "  'send_replies': True,\n",
       "  'whitelist_status': None,\n",
       "  'contest_mode': False,\n",
       "  'mod_reports': [],\n",
       "  'author_patreon_flair': False,\n",
       "  'author_flair_text_color': None,\n",
       "  'permalink': '/r/Cheap_Meals/comments/cg1enz/ancho_chile_puree_braised_chicken_tacos_taco/',\n",
       "  'parent_whitelist_status': None,\n",
       "  'stickied': False,\n",
       "  'url': 'https://youtu.be/6Q6azPwe1JM',\n",
       "  'subreddit_subscribers': 68231,\n",
       "  'created_utc': 1563729314.0,\n",
       "  'discussion_type': None,\n",
       "  'media': {'type': 'youtube.com',\n",
       "   'oembed': {'provider_url': 'https://www.youtube.com/',\n",
       "    'version': '1.0',\n",
       "    'title': 'Taco Tuesday EP.3 // Ancho Chile Puree Braised Chicken Tacos',\n",
       "    'type': 'video',\n",
       "    'thumbnail_width': 480,\n",
       "    'height': 338,\n",
       "    'width': 600,\n",
       "    'html': '&lt;iframe width=\"600\" height=\"338\" src=\"https://www.youtube.com/embed/6Q6azPwe1JM?feature=oembed&amp;enablejsapi=1\" frameborder=\"0\" allow=\"accelerometer; autoplay; encrypted-media; gyroscope; picture-in-picture\" allowfullscreen&gt;&lt;/iframe&gt;',\n",
       "    'author_name': 'Cook with E',\n",
       "    'provider_name': 'YouTube',\n",
       "    'thumbnail_url': 'https://i.ytimg.com/vi/6Q6azPwe1JM/hqdefault.jpg',\n",
       "    'thumbnail_height': 360,\n",
       "    'author_url': 'https://www.youtube.com/channel/UCDq5v10l4wkV5-ZBIJJFbzQ'}},\n",
       "  'is_video': False}}"
      ]
     },
     "execution_count": 16,
     "metadata": {},
     "output_type": "execute_result"
    }
   ],
   "source": [
    "posts[0]"
   ]
  },
  {
   "cell_type": "code",
   "execution_count": 17,
   "metadata": {},
   "outputs": [],
   "source": [
    "title = []\n",
    "text = []\n",
    "subreddit = []\n",
    "\n",
    "for post in posts:\n",
    "    title.append(post['data']['title'])\n",
    "    text.append(post['data']['selftext'])\n",
    "    subreddit.append(post['data']['subreddit'])"
   ]
  },
  {
   "cell_type": "code",
   "execution_count": 18,
   "metadata": {},
   "outputs": [
    {
     "data": {
      "text/html": [
       "<div>\n",
       "<style scoped>\n",
       "    .dataframe tbody tr th:only-of-type {\n",
       "        vertical-align: middle;\n",
       "    }\n",
       "\n",
       "    .dataframe tbody tr th {\n",
       "        vertical-align: top;\n",
       "    }\n",
       "\n",
       "    .dataframe thead th {\n",
       "        text-align: right;\n",
       "    }\n",
       "</style>\n",
       "<table border=\"1\" class=\"dataframe\">\n",
       "  <thead>\n",
       "    <tr style=\"text-align: right;\">\n",
       "      <th></th>\n",
       "      <th>title</th>\n",
       "      <th>text</th>\n",
       "      <th>subreddit</th>\n",
       "    </tr>\n",
       "  </thead>\n",
       "  <tbody>\n",
       "    <tr>\n",
       "      <th>0</th>\n",
       "      <td>Ancho Chile Puree Braised Chicken Tacos // Tac...</td>\n",
       "      <td></td>\n",
       "      <td>Cheap_Meals</td>\n",
       "    </tr>\n",
       "    <tr>\n",
       "      <th>1</th>\n",
       "      <td>Recipes for College Student</td>\n",
       "      <td>I'm going to be in an off campus apartment tha...</td>\n",
       "      <td>Cheap_Meals</td>\n",
       "    </tr>\n",
       "    <tr>\n",
       "      <th>2</th>\n",
       "      <td>Fluffy Apple Roll Cake</td>\n",
       "      <td></td>\n",
       "      <td>Cheap_Meals</td>\n",
       "    </tr>\n",
       "    <tr>\n",
       "      <th>3</th>\n",
       "      <td>Easy Potato Curry</td>\n",
       "      <td></td>\n",
       "      <td>Cheap_Meals</td>\n",
       "    </tr>\n",
       "    <tr>\n",
       "      <th>4</th>\n",
       "      <td>Budget-friendly Korean Soft Tofu Stew!</td>\n",
       "      <td></td>\n",
       "      <td>Cheap_Meals</td>\n",
       "    </tr>\n",
       "  </tbody>\n",
       "</table>\n",
       "</div>"
      ],
      "text/plain": [
       "                                               title  \\\n",
       "0  Ancho Chile Puree Braised Chicken Tacos // Tac...   \n",
       "1                        Recipes for College Student   \n",
       "2                             Fluffy Apple Roll Cake   \n",
       "3                                  Easy Potato Curry   \n",
       "4             Budget-friendly Korean Soft Tofu Stew!   \n",
       "\n",
       "                                                text    subreddit  \n",
       "0                                                     Cheap_Meals  \n",
       "1  I'm going to be in an off campus apartment tha...  Cheap_Meals  \n",
       "2                                                     Cheap_Meals  \n",
       "3                                                     Cheap_Meals  \n",
       "4                                                     Cheap_Meals  "
      ]
     },
     "execution_count": 18,
     "metadata": {},
     "output_type": "execute_result"
    }
   ],
   "source": [
    "df = pd.DataFrame([title, text, subreddit]).T\n",
    "df.columns = ['title', 'text', 'subreddit']\n",
    "df.head()"
   ]
  },
  {
   "cell_type": "code",
   "execution_count": 19,
   "metadata": {},
   "outputs": [
    {
     "data": {
      "text/plain": [
       "(2497, 3)"
      ]
     },
     "execution_count": 19,
     "metadata": {},
     "output_type": "execute_result"
    }
   ],
   "source": [
    "df.shape"
   ]
  },
  {
   "cell_type": "code",
   "execution_count": 20,
   "metadata": {},
   "outputs": [],
   "source": [
    "# drop duplicate posts.\n",
    "df = df.drop_duplicates()"
   ]
  },
  {
   "cell_type": "code",
   "execution_count": 21,
   "metadata": {},
   "outputs": [
    {
     "data": {
      "text/plain": [
       "(686, 3)"
      ]
     },
     "execution_count": 21,
     "metadata": {},
     "output_type": "execute_result"
    }
   ],
   "source": [
    "df.shape"
   ]
  },
  {
   "cell_type": "code",
   "execution_count": 22,
   "metadata": {},
   "outputs": [],
   "source": [
    "df.to_csv('./data/cheap.csv', index=False)"
   ]
  },
  {
   "cell_type": "code",
   "execution_count": null,
   "metadata": {},
   "outputs": [],
   "source": []
  }
 ],
 "metadata": {
  "kernelspec": {
   "display_name": "Python 3",
   "language": "python",
   "name": "python3"
  },
  "language_info": {
   "codemirror_mode": {
    "name": "ipython",
    "version": 3
   },
   "file_extension": ".py",
   "mimetype": "text/x-python",
   "name": "python",
   "nbconvert_exporter": "python",
   "pygments_lexer": "ipython3",
   "version": "3.7.3"
  }
 },
 "nbformat": 4,
 "nbformat_minor": 2
}
