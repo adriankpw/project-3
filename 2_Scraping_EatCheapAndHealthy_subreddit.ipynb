{
 "cells": [
  {
   "cell_type": "markdown",
   "metadata": {},
   "source": [
    "# Project 3 - Reddit API and Classification"
   ]
  },
  {
   "cell_type": "markdown",
   "metadata": {},
   "source": [
    "## Scraping EatCheapAndHealthy subreddit"
   ]
  },
  {
   "cell_type": "markdown",
   "metadata": {},
   "source": [
    "Using Reddit's API, posts were collected from EatCheapAndHealthy subreddit."
   ]
  },
  {
   "cell_type": "code",
   "execution_count": 1,
   "metadata": {},
   "outputs": [],
   "source": [
    "import requests\n",
    "import time\n",
    "import pandas as pd"
   ]
  },
  {
   "cell_type": "code",
   "execution_count": 3,
   "metadata": {},
   "outputs": [],
   "source": [
    "url = 'https://www.reddit.com/r/EatCheapAndHealthy.json'"
   ]
  },
  {
   "cell_type": "code",
   "execution_count": 4,
   "metadata": {},
   "outputs": [],
   "source": [
    "# Creating custom user agent.\n",
    "headers = {'User-agent': 'jason_bourne_0023'}"
   ]
  },
  {
   "cell_type": "code",
   "execution_count": 5,
   "metadata": {},
   "outputs": [],
   "source": [
    "res = requests.get(url, headers=headers)"
   ]
  },
  {
   "cell_type": "code",
   "execution_count": 6,
   "metadata": {},
   "outputs": [
    {
     "data": {
      "text/plain": [
       "200"
      ]
     },
     "execution_count": 6,
     "metadata": {},
     "output_type": "execute_result"
    }
   ],
   "source": [
    "res.status_code"
   ]
  },
  {
   "cell_type": "code",
   "execution_count": 7,
   "metadata": {},
   "outputs": [],
   "source": [
    "healthy = res.json()"
   ]
  },
  {
   "cell_type": "code",
   "execution_count": 8,
   "metadata": {},
   "outputs": [
    {
     "data": {
      "text/plain": [
       "['data', 'kind']"
      ]
     },
     "execution_count": 8,
     "metadata": {},
     "output_type": "execute_result"
    }
   ],
   "source": [
    "sorted(healthy.keys())"
   ]
  },
  {
   "cell_type": "code",
   "execution_count": 9,
   "metadata": {},
   "outputs": [
    {
     "data": {
      "text/plain": [
       "['after', 'before', 'children', 'dist', 'modhash']"
      ]
     },
     "execution_count": 9,
     "metadata": {},
     "output_type": "execute_result"
    }
   ],
   "source": [
    "sorted(healthy['data'].keys())"
   ]
  },
  {
   "cell_type": "code",
   "execution_count": 12,
   "metadata": {},
   "outputs": [
    {
     "data": {
      "text/plain": [
       "26"
      ]
     },
     "execution_count": 12,
     "metadata": {},
     "output_type": "execute_result"
    }
   ],
   "source": [
    "len(healthy['data']['children'])"
   ]
  },
  {
   "cell_type": "code",
   "execution_count": 13,
   "metadata": {},
   "outputs": [
    {
     "data": {
      "text/plain": [
       "'t3_cf6e6k'"
      ]
     },
     "execution_count": 13,
     "metadata": {},
     "output_type": "execute_result"
    }
   ],
   "source": [
    "# Name of the last post.\n",
    "healthy['data']['after']"
   ]
  },
  {
   "cell_type": "code",
   "execution_count": 15,
   "metadata": {
    "scrolled": true
   },
   "outputs": [
    {
     "data": {
      "text/plain": [
       "['t3_8nmhix',\n",
       " 't3_cfjthu',\n",
       " 't3_cfv9y1',\n",
       " 't3_cfs3gb',\n",
       " 't3_cf7sa9',\n",
       " 't3_cfwju4',\n",
       " 't3_cfs7hh',\n",
       " 't3_cfunv0',\n",
       " 't3_cfrbh1',\n",
       " 't3_cfowef',\n",
       " 't3_cfpes4',\n",
       " 't3_cfpn1q',\n",
       " 't3_cfo68m',\n",
       " 't3_cfreh4',\n",
       " 't3_cfnrzq',\n",
       " 't3_cfok1o',\n",
       " 't3_cfoeh1',\n",
       " 't3_cfocjj',\n",
       " 't3_cfo328',\n",
       " 't3_cfpl1z',\n",
       " 't3_cfpc96',\n",
       " 't3_cfmzu6',\n",
       " 't3_cfgsf9',\n",
       " 't3_cfjse4',\n",
       " 't3_cfo5du',\n",
       " 't3_cf6e6k']"
      ]
     },
     "execution_count": 15,
     "metadata": {},
     "output_type": "execute_result"
    }
   ],
   "source": [
    "[post['data']['name'] for post in  healthy['data']['children']]"
   ]
  },
  {
   "cell_type": "code",
   "execution_count": 16,
   "metadata": {},
   "outputs": [],
   "source": [
    "param = {'after': 't3_cf6e6k'}"
   ]
  },
  {
   "cell_type": "code",
   "execution_count": 17,
   "metadata": {},
   "outputs": [
    {
     "data": {
      "text/plain": [
       "<Response [200]>"
      ]
     },
     "execution_count": 17,
     "metadata": {},
     "output_type": "execute_result"
    }
   ],
   "source": [
    "requests.get(url, params=param, headers=headers)"
   ]
  },
  {
   "cell_type": "code",
   "execution_count": 18,
   "metadata": {
    "scrolled": true
   },
   "outputs": [
    {
     "name": "stdout",
     "output_type": "stream",
     "text": [
      "0\n",
      "1\n",
      "2\n",
      "3\n",
      "4\n",
      "5\n",
      "6\n",
      "7\n",
      "8\n",
      "9\n",
      "10\n",
      "11\n",
      "12\n",
      "13\n",
      "14\n",
      "15\n",
      "16\n",
      "17\n",
      "18\n",
      "19\n",
      "20\n",
      "21\n",
      "22\n",
      "23\n",
      "24\n",
      "25\n",
      "26\n",
      "27\n",
      "28\n",
      "29\n",
      "30\n",
      "31\n",
      "32\n",
      "33\n",
      "34\n",
      "35\n",
      "36\n",
      "37\n",
      "38\n",
      "39\n",
      "40\n",
      "41\n",
      "42\n",
      "43\n",
      "44\n",
      "45\n",
      "46\n",
      "47\n",
      "48\n",
      "49\n",
      "50\n",
      "51\n",
      "52\n",
      "53\n",
      "54\n",
      "55\n",
      "56\n",
      "57\n",
      "58\n",
      "59\n",
      "60\n",
      "61\n",
      "62\n",
      "63\n",
      "64\n",
      "65\n",
      "66\n",
      "67\n",
      "68\n",
      "69\n",
      "70\n",
      "71\n",
      "72\n",
      "73\n",
      "74\n",
      "75\n",
      "76\n",
      "77\n",
      "78\n",
      "79\n",
      "80\n",
      "81\n",
      "82\n",
      "83\n",
      "84\n",
      "85\n",
      "86\n",
      "87\n",
      "88\n",
      "89\n",
      "90\n",
      "91\n",
      "92\n",
      "93\n",
      "94\n",
      "95\n",
      "96\n",
      "97\n",
      "98\n",
      "99\n"
     ]
    }
   ],
   "source": [
    "posts = []\n",
    "after = None\n",
    "for i in range(100):\n",
    "    print(i)\n",
    "    if after == None:\n",
    "        params = {}\n",
    "    else:\n",
    "        params = {'after': after}\n",
    "    url = 'https://www.reddit.com/r/EatCheapAndHealthy.json'\n",
    "    res = requests.get(url, params=params, headers=headers)\n",
    "    if res.status_code == 200:\n",
    "        healthy = res.json()\n",
    "        posts.extend(healthy['data']['children'])\n",
    "        after = healthy['data']['after']\n",
    "    else:\n",
    "        print('Status code: {}'.format(res.status_code))\n",
    "        break\n",
    "    # allow for a break in between requests.\n",
    "    time.sleep(3)"
   ]
  },
  {
   "cell_type": "code",
   "execution_count": 19,
   "metadata": {},
   "outputs": [
    {
     "data": {
      "text/plain": [
       "756"
      ]
     },
     "execution_count": 19,
     "metadata": {},
     "output_type": "execute_result"
    }
   ],
   "source": [
    "len(set([p['data']['name'] for p in posts]))"
   ]
  },
  {
   "cell_type": "code",
   "execution_count": 23,
   "metadata": {},
   "outputs": [
    {
     "data": {
      "text/plain": [
       "{'kind': 't3',\n",
       " 'data': {'approved_at_utc': None,\n",
       "  'subreddit': 'EatCheapAndHealthy',\n",
       "  'selftext': \"For example:\\n\\n1. No fridge, microwave only: [SEARCH RESULTS](https://www.reddit.com/r/EatCheapAndHealthy/search?q=No+fridge%2C+microwave+only&amp;restrict_sr=on&amp;sort=relevance&amp;t=all)\\n\\n2. Student, need help with recipes:  [SEARCH RESULTS](https://www.reddit.com/r/EatCheapAndHealthy/search?q=Student%2C+need+help+with+recipes&amp;restrict_sr=on&amp;sort=relevance&amp;t=all)\\n\\n\\n\\n3. no oven, traveling : [SEARCH RESULTS](https://www.reddit.com/r/EatCheapAndHealthy/search?q=no+oven&amp;restrict_sr=on&amp;sort=relevance&amp;t=all)\\n\\nThese are three examples. Just keep entering keywords until you get a match for what you need. Please do this so we don't have to keep removing repeat links. Our database is quite large enough as is.\",\n",
       "  'author_fullname': 't2_4itpf',\n",
       "  'saved': False,\n",
       "  'mod_reason_title': None,\n",
       "  'gilded': 0,\n",
       "  'clicked': False,\n",
       "  'title': '[MOD POST] Before you post, asking questions for recipes, please use our search bar. Trust us...your question has been asked before.',\n",
       "  'link_flair_richtext': [],\n",
       "  'subreddit_name_prefixed': 'r/EatCheapAndHealthy',\n",
       "  'hidden': False,\n",
       "  'pwls': 6,\n",
       "  'link_flair_css_class': None,\n",
       "  'downs': 0,\n",
       "  'thumbnail_height': None,\n",
       "  'hide_score': False,\n",
       "  'name': 't3_8nmhix',\n",
       "  'quarantine': False,\n",
       "  'link_flair_text_color': 'dark',\n",
       "  'author_flair_background_color': '',\n",
       "  'subreddit_type': 'public',\n",
       "  'ups': 1230,\n",
       "  'total_awards_received': 0,\n",
       "  'media_embed': {},\n",
       "  'thumbnail_width': None,\n",
       "  'author_flair_template_id': None,\n",
       "  'is_original_content': False,\n",
       "  'user_reports': [],\n",
       "  'secure_media': None,\n",
       "  'is_reddit_media_domain': False,\n",
       "  'is_meta': False,\n",
       "  'category': None,\n",
       "  'secure_media_embed': {},\n",
       "  'link_flair_text': None,\n",
       "  'can_mod_post': False,\n",
       "  'score': 1230,\n",
       "  'approved_by': None,\n",
       "  'thumbnail': 'self',\n",
       "  'edited': False,\n",
       "  'author_flair_css_class': 'Dessertflair',\n",
       "  'author_flair_richtext': [],\n",
       "  'gildings': {},\n",
       "  'content_categories': None,\n",
       "  'is_self': True,\n",
       "  'mod_note': None,\n",
       "  'created': 1527832726.0,\n",
       "  'link_flair_type': 'text',\n",
       "  'wls': 6,\n",
       "  'banned_by': None,\n",
       "  'author_flair_type': 'text',\n",
       "  'domain': 'self.EatCheapAndHealthy',\n",
       "  'allow_live_comments': True,\n",
       "  'selftext_html': '&lt;!-- SC_OFF --&gt;&lt;div class=\"md\"&gt;&lt;p&gt;For example:&lt;/p&gt;\\n\\n&lt;ol&gt;\\n&lt;li&gt;&lt;p&gt;No fridge, microwave only: &lt;a href=\"https://www.reddit.com/r/EatCheapAndHealthy/search?q=No+fridge%2C+microwave+only&amp;amp;restrict_sr=on&amp;amp;sort=relevance&amp;amp;t=all\"&gt;SEARCH RESULTS&lt;/a&gt;&lt;/p&gt;&lt;/li&gt;\\n&lt;li&gt;&lt;p&gt;Student, need help with recipes:  &lt;a href=\"https://www.reddit.com/r/EatCheapAndHealthy/search?q=Student%2C+need+help+with+recipes&amp;amp;restrict_sr=on&amp;amp;sort=relevance&amp;amp;t=all\"&gt;SEARCH RESULTS&lt;/a&gt;&lt;/p&gt;&lt;/li&gt;\\n&lt;li&gt;&lt;p&gt;no oven, traveling : &lt;a href=\"https://www.reddit.com/r/EatCheapAndHealthy/search?q=no+oven&amp;amp;restrict_sr=on&amp;amp;sort=relevance&amp;amp;t=all\"&gt;SEARCH RESULTS&lt;/a&gt;&lt;/p&gt;&lt;/li&gt;\\n&lt;/ol&gt;\\n\\n&lt;p&gt;These are three examples. Just keep entering keywords until you get a match for what you need. Please do this so we don&amp;#39;t have to keep removing repeat links. Our database is quite large enough as is.&lt;/p&gt;\\n&lt;/div&gt;&lt;!-- SC_ON --&gt;',\n",
       "  'likes': None,\n",
       "  'suggested_sort': None,\n",
       "  'banned_at_utc': None,\n",
       "  'view_count': None,\n",
       "  'archived': True,\n",
       "  'no_follow': False,\n",
       "  'is_crosspostable': False,\n",
       "  'pinned': False,\n",
       "  'over_18': False,\n",
       "  'all_awardings': [],\n",
       "  'media_only': False,\n",
       "  'can_gild': False,\n",
       "  'spoiler': False,\n",
       "  'locked': True,\n",
       "  'author_flair_text': '',\n",
       "  'visited': False,\n",
       "  'num_reports': None,\n",
       "  'distinguished': 'moderator',\n",
       "  'subreddit_id': 't5_2vvpi',\n",
       "  'mod_reason_by': None,\n",
       "  'removal_reason': None,\n",
       "  'link_flair_background_color': '',\n",
       "  'id': '8nmhix',\n",
       "  'is_robot_indexable': True,\n",
       "  'report_reasons': None,\n",
       "  'author': 'randoh12',\n",
       "  'num_crossposts': 1,\n",
       "  'num_comments': 0,\n",
       "  'send_replies': True,\n",
       "  'whitelist_status': 'all_ads',\n",
       "  'contest_mode': False,\n",
       "  'mod_reports': [],\n",
       "  'author_patreon_flair': False,\n",
       "  'author_flair_text_color': 'dark',\n",
       "  'permalink': '/r/EatCheapAndHealthy/comments/8nmhix/mod_post_before_you_post_asking_questions_for/',\n",
       "  'parent_whitelist_status': 'all_ads',\n",
       "  'stickied': True,\n",
       "  'url': 'https://www.reddit.com/r/EatCheapAndHealthy/comments/8nmhix/mod_post_before_you_post_asking_questions_for/',\n",
       "  'subreddit_subscribers': 1358114,\n",
       "  'created_utc': 1527803926.0,\n",
       "  'discussion_type': None,\n",
       "  'media': None,\n",
       "  'is_video': False}}"
      ]
     },
     "execution_count": 23,
     "metadata": {},
     "output_type": "execute_result"
    }
   ],
   "source": [
    "posts[0]"
   ]
  },
  {
   "cell_type": "code",
   "execution_count": 24,
   "metadata": {},
   "outputs": [],
   "source": [
    "title = []\n",
    "text = []\n",
    "subreddit = []\n",
    "\n",
    "for post in posts:\n",
    "    title.append(post['data']['title'])\n",
    "    text.append(post['data']['selftext'])\n",
    "    subreddit.append(post['data']['subreddit'])"
   ]
  },
  {
   "cell_type": "code",
   "execution_count": 27,
   "metadata": {},
   "outputs": [
    {
     "data": {
      "text/html": [
       "<div>\n",
       "<style scoped>\n",
       "    .dataframe tbody tr th:only-of-type {\n",
       "        vertical-align: middle;\n",
       "    }\n",
       "\n",
       "    .dataframe tbody tr th {\n",
       "        vertical-align: top;\n",
       "    }\n",
       "\n",
       "    .dataframe thead th {\n",
       "        text-align: right;\n",
       "    }\n",
       "</style>\n",
       "<table border=\"1\" class=\"dataframe\">\n",
       "  <thead>\n",
       "    <tr style=\"text-align: right;\">\n",
       "      <th></th>\n",
       "      <th>title</th>\n",
       "      <th>text</th>\n",
       "      <th>subreddit</th>\n",
       "    </tr>\n",
       "  </thead>\n",
       "  <tbody>\n",
       "    <tr>\n",
       "      <th>0</th>\n",
       "      <td>[MOD POST] Before you post, asking questions f...</td>\n",
       "      <td>For example:\\n\\n1. No fridge, microwave only: ...</td>\n",
       "      <td>EatCheapAndHealthy</td>\n",
       "    </tr>\n",
       "    <tr>\n",
       "      <th>1</th>\n",
       "      <td>Cucumber Salad</td>\n",
       "      <td></td>\n",
       "      <td>EatCheapAndHealthy</td>\n",
       "    </tr>\n",
       "    <tr>\n",
       "      <th>2</th>\n",
       "      <td>Kala Chana Cheap and Very Healthy Option</td>\n",
       "      <td>Kala chana is also known as black chickpeas or...</td>\n",
       "      <td>EatCheapAndHealthy</td>\n",
       "    </tr>\n",
       "    <tr>\n",
       "      <th>3</th>\n",
       "      <td>You should try this snack</td>\n",
       "      <td>So heres what you need to do\\n\\nCut up some ca...</td>\n",
       "      <td>EatCheapAndHealthy</td>\n",
       "    </tr>\n",
       "    <tr>\n",
       "      <th>4</th>\n",
       "      <td>Watermelon and Whole Fruit Popsicle</td>\n",
       "      <td></td>\n",
       "      <td>EatCheapAndHealthy</td>\n",
       "    </tr>\n",
       "  </tbody>\n",
       "</table>\n",
       "</div>"
      ],
      "text/plain": [
       "                                               title  \\\n",
       "0  [MOD POST] Before you post, asking questions f...   \n",
       "1                                     Cucumber Salad   \n",
       "2           Kala Chana Cheap and Very Healthy Option   \n",
       "3                          You should try this snack   \n",
       "4                Watermelon and Whole Fruit Popsicle   \n",
       "\n",
       "                                                text           subreddit  \n",
       "0  For example:\\n\\n1. No fridge, microwave only: ...  EatCheapAndHealthy  \n",
       "1                                                     EatCheapAndHealthy  \n",
       "2  Kala chana is also known as black chickpeas or...  EatCheapAndHealthy  \n",
       "3  So heres what you need to do\\n\\nCut up some ca...  EatCheapAndHealthy  \n",
       "4                                                     EatCheapAndHealthy  "
      ]
     },
     "execution_count": 27,
     "metadata": {},
     "output_type": "execute_result"
    }
   ],
   "source": [
    "df = pd.DataFrame([title, text, subreddit]).T\n",
    "df.columns = ['title', 'text', 'subreddit']\n",
    "df.head()"
   ]
  },
  {
   "cell_type": "code",
   "execution_count": 28,
   "metadata": {},
   "outputs": [
    {
     "data": {
      "text/plain": [
       "(2444, 3)"
      ]
     },
     "execution_count": 28,
     "metadata": {},
     "output_type": "execute_result"
    }
   ],
   "source": [
    "df.shape"
   ]
  },
  {
   "cell_type": "code",
   "execution_count": 29,
   "metadata": {},
   "outputs": [],
   "source": [
    "# drop duplicate posts.\n",
    "df = df.drop_duplicates()"
   ]
  },
  {
   "cell_type": "code",
   "execution_count": 30,
   "metadata": {},
   "outputs": [
    {
     "data": {
      "text/plain": [
       "(750, 3)"
      ]
     },
     "execution_count": 30,
     "metadata": {},
     "output_type": "execute_result"
    }
   ],
   "source": [
    "df.shape"
   ]
  },
  {
   "cell_type": "code",
   "execution_count": 31,
   "metadata": {},
   "outputs": [],
   "source": [
    "df.to_csv('./data/healthy.csv', index=False)"
   ]
  },
  {
   "cell_type": "code",
   "execution_count": null,
   "metadata": {},
   "outputs": [],
   "source": []
  }
 ],
 "metadata": {
  "kernelspec": {
   "display_name": "Python 3",
   "language": "python",
   "name": "python3"
  },
  "language_info": {
   "codemirror_mode": {
    "name": "ipython",
    "version": 3
   },
   "file_extension": ".py",
   "mimetype": "text/x-python",
   "name": "python",
   "nbconvert_exporter": "python",
   "pygments_lexer": "ipython3",
   "version": "3.7.3"
  }
 },
 "nbformat": 4,
 "nbformat_minor": 2
}
